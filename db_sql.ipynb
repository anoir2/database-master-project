{
 "cells": [
  {
   "cell_type": "markdown",
   "metadata": {
    "collapsed": true,
    "pycharm": {
     "name": "#%% md\n"
    }
   },
   "source": [
    "Import Libraries"
   ]
  },
  {
   "cell_type": "code",
   "execution_count": 1,
   "outputs": [],
   "source": [
    "import datetime\n",
    "import mysql.connector\n",
    "import pandas as pd"
   ],
   "metadata": {
    "collapsed": false,
    "pycharm": {
     "name": "#%%\n"
    }
   }
  },
  {
   "cell_type": "markdown",
   "source": [
    "Connect to DB"
   ],
   "metadata": {
    "collapsed": false
   }
  },
  {
   "cell_type": "code",
   "execution_count": 2,
   "outputs": [],
   "source": [
    "cnx = mysql.connector.connect(\n",
    "    host='sql11.freemysqlhosting.net',\n",
    "    user='sql11414637',\n",
    "    password='C4EIV4fmVq',\n",
    "    database='sql11414637'\n",
    ")\n",
    "cursor = cnx.cursor()\n",
    "\n",
    "def execute_query(cursor, params):\n",
    "    cursor.execute(query, params)\n",
    "    sql_data = pd.DataFrame(cursor.fetchall())\n",
    "\n",
    "    if len(sql_data) > 0:\n",
    "        sql_data.columns = cursor.column_names\n",
    "    else: sql_data = \"NO DATA FOUND\"\n",
    "\n",
    "    return sql_data"
   ],
   "metadata": {
    "collapsed": false,
    "pycharm": {
     "name": "#%%\n"
    }
   }
  },
  {
   "cell_type": "markdown",
   "source": [
    "1. Per uno specifico cliente, determinare le quantità di ciascun prodotto acquistato in un determinato periodo;"
   ],
   "metadata": {
    "collapsed": false
   }
  },
  {
   "cell_type": "code",
   "execution_count": 3,
   "outputs": [
    {
     "data": {
      "text/plain": "            descrizione quantita\n0  Biscotto Grancereale        2\n1        Biscotto Doria        1\n2      Fesa di tacchino        2\n3            Prosciutto        2\n4            Lenticchia        3\n5       Fusilli Barilla        3\n6        Rigatoni Patti        3",
      "text/html": "<div>\n<style scoped>\n    .dataframe tbody tr th:only-of-type {\n        vertical-align: middle;\n    }\n\n    .dataframe tbody tr th {\n        vertical-align: top;\n    }\n\n    .dataframe thead th {\n        text-align: right;\n    }\n</style>\n<table border=\"1\" class=\"dataframe\">\n  <thead>\n    <tr style=\"text-align: right;\">\n      <th></th>\n      <th>descrizione</th>\n      <th>quantita</th>\n    </tr>\n  </thead>\n  <tbody>\n    <tr>\n      <th>0</th>\n      <td>Biscotto Grancereale</td>\n      <td>2</td>\n    </tr>\n    <tr>\n      <th>1</th>\n      <td>Biscotto Doria</td>\n      <td>1</td>\n    </tr>\n    <tr>\n      <th>2</th>\n      <td>Fesa di tacchino</td>\n      <td>2</td>\n    </tr>\n    <tr>\n      <th>3</th>\n      <td>Prosciutto</td>\n      <td>2</td>\n    </tr>\n    <tr>\n      <th>4</th>\n      <td>Lenticchia</td>\n      <td>3</td>\n    </tr>\n    <tr>\n      <th>5</th>\n      <td>Fusilli Barilla</td>\n      <td>3</td>\n    </tr>\n    <tr>\n      <th>6</th>\n      <td>Rigatoni Patti</td>\n      <td>3</td>\n    </tr>\n  </tbody>\n</table>\n</div>"
     },
     "execution_count": 3,
     "metadata": {},
     "output_type": "execute_result"
    }
   ],
   "source": [
    "query = '''\n",
    "SELECT p.descrizione, sum(sip.quantita) AS quantita\n",
    "FROM prodotto p\n",
    "INNER JOIN spesa_include_prodotto sip ON p.codice = sip.prodotto\n",
    "INNER JOIN spesa s ON sip.spesa = s.n_scontrino\n",
    "INNER JOIN cliente c ON s.cliente = c.cf\n",
    "WHERE c.cf = %s AND s.data BETWEEN %s AND %s\n",
    "GROUP BY p.codice\n",
    "'''\n",
    "# DATE DISPONIBILI NEL DB: Dal 2020-01-01 al 31-12-2020\n",
    "# CF DISPONIBILI NEL DB: VTLB4CB4GEI92KW5, 0T1B0ZJKYSZJ32UC, EHLADQRKDFV78NDS, W785D1D4CH8CEI89, WNE850TY9X99MTRD\n",
    "\n",
    "cf = 'VTLB4CB4GEI92KW5'\n",
    "start_date = datetime.date(2020, 1, 1)\n",
    "end_date = datetime.date(2020, 12, 31)\n",
    "\n",
    "execute_query(cursor, (cf, start_date, end_date))"
   ],
   "metadata": {
    "collapsed": false,
    "pycharm": {
     "name": "#%%\n"
    }
   }
  },
  {
   "cell_type": "markdown",
   "source": [
    "2. Per un determinato prodotto, determinare il numero dei clienti distinti che lo hanno acquistato in un determinato periodo;"
   ],
   "metadata": {
    "collapsed": false
   }
  },
  {
   "cell_type": "code",
   "execution_count": 4,
   "outputs": [
    {
     "data": {
      "text/plain": "   codice           descrizione  n_clienti\n0       1  Biscotto Grancereale          4",
      "text/html": "<div>\n<style scoped>\n    .dataframe tbody tr th:only-of-type {\n        vertical-align: middle;\n    }\n\n    .dataframe tbody tr th {\n        vertical-align: top;\n    }\n\n    .dataframe thead th {\n        text-align: right;\n    }\n</style>\n<table border=\"1\" class=\"dataframe\">\n  <thead>\n    <tr style=\"text-align: right;\">\n      <th></th>\n      <th>codice</th>\n      <th>descrizione</th>\n      <th>n_clienti</th>\n    </tr>\n  </thead>\n  <tbody>\n    <tr>\n      <th>0</th>\n      <td>1</td>\n      <td>Biscotto Grancereale</td>\n      <td>4</td>\n    </tr>\n  </tbody>\n</table>\n</div>"
     },
     "execution_count": 4,
     "metadata": {},
     "output_type": "execute_result"
    }
   ],
   "source": [
    "query = '''\n",
    "SELECT p.codice, p.descrizione, count(DISTINCT c.cf) AS n_clienti\n",
    "FROM prodotto p\n",
    "INNER JOIN spesa_include_prodotto sip ON p.codice = sip.prodotto\n",
    "INNER JOIN spesa s ON sip.spesa = s.n_scontrino\n",
    "INNER JOIN cliente c ON s.cliente = c.cf\n",
    "WHERE p.codice = %s AND s.data BETWEEN %s AND %s\n",
    "GROUP BY p.codice\n",
    "'''\n",
    "# DATE DISPONIBILI NEL DB: Dal 2020-01-01 al 31-12-2020\n",
    "# CODICI PRODOTTI DISPONIBILI NEL DB: 1, 2, 3, 4, 5, 6, 7\n",
    "\n",
    "cod_prodotto = 1\n",
    "start_date = datetime.date(2020, 1, 1)\n",
    "end_date = datetime.date(2020, 12, 31)\n",
    "\n",
    "execute_query(cursor, (cod_prodotto, start_date, end_date))"
   ],
   "metadata": {
    "collapsed": false,
    "pycharm": {
     "name": "#%%\n"
    }
   }
  },
  {
   "cell_type": "markdown",
   "source": [
    "3. Individuare tutti i clienti che hanno acquistato un prodotto in promozione, indicandone il CAP di residenza;"
   ],
   "metadata": {
    "collapsed": false
   }
  },
  {
   "cell_type": "code",
   "execution_count": 5,
   "outputs": [
    {
     "data": {
      "text/plain": "                 cf            nome anno_nascita sesso  reddito    CAP  \\\n0  0T1B0ZJKYSZJ32UC  Giuseppe Verdi   1985-08-06     M   524415  95545   \n\n            via  civico  citta  \n0  Via plutarco       2      8  ",
      "text/html": "<div>\n<style scoped>\n    .dataframe tbody tr th:only-of-type {\n        vertical-align: middle;\n    }\n\n    .dataframe tbody tr th {\n        vertical-align: top;\n    }\n\n    .dataframe thead th {\n        text-align: right;\n    }\n</style>\n<table border=\"1\" class=\"dataframe\">\n  <thead>\n    <tr style=\"text-align: right;\">\n      <th></th>\n      <th>cf</th>\n      <th>nome</th>\n      <th>anno_nascita</th>\n      <th>sesso</th>\n      <th>reddito</th>\n      <th>CAP</th>\n      <th>via</th>\n      <th>civico</th>\n      <th>citta</th>\n    </tr>\n  </thead>\n  <tbody>\n    <tr>\n      <th>0</th>\n      <td>0T1B0ZJKYSZJ32UC</td>\n      <td>Giuseppe Verdi</td>\n      <td>1985-08-06</td>\n      <td>M</td>\n      <td>524415</td>\n      <td>95545</td>\n      <td>Via plutarco</td>\n      <td>2</td>\n      <td>8</td>\n    </tr>\n  </tbody>\n</table>\n</div>"
     },
     "execution_count": 5,
     "metadata": {},
     "output_type": "execute_result"
    }
   ],
   "source": [
    "query = '''\n",
    "SELECT DISTINCT c.*\n",
    "FROM cliente c\n",
    "INNER JOIN spesa s on c.cf = s.cliente\n",
    "INNER JOIN spesa_include_prodotto sip ON s.n_scontrino = sip.spesa\n",
    "INNER JOIN prodotto p ON p.codice = sip.prodotto\n",
    "INNER JOIN promozione promo ON promo.prodotto = p.codice\n",
    "WHERE s.data BETWEEN promo.data_inizio AND promo.data_fine AND c.CAP = %s\n",
    "'''\n",
    "# CAP DISPONIBILI NEL DB: 95545, 40265, 30524, 74520, 20085\n",
    "\n",
    "cap = 95545\n",
    "\n",
    "execute_query(cursor, (cap,))\n"
   ],
   "metadata": {
    "collapsed": false,
    "pycharm": {
     "name": "#%%\n"
    }
   }
  },
  {
   "cell_type": "markdown",
   "source": [
    "4. Per uno specifico CAP, individuare i clienti che hanno fatto acquisti in un determinato periodo;"
   ],
   "metadata": {
    "collapsed": false
   }
  },
  {
   "cell_type": "code",
   "execution_count": 6,
   "outputs": [
    {
     "data": {
      "text/plain": "                 cf            nome anno_nascita sesso  reddito    CAP  \\\n0  0T1B0ZJKYSZJ32UC  Giuseppe Verdi   1985-08-06     M   524415  95545   \n\n            via  civico  citta  \n0  Via plutarco       2      8  ",
      "text/html": "<div>\n<style scoped>\n    .dataframe tbody tr th:only-of-type {\n        vertical-align: middle;\n    }\n\n    .dataframe tbody tr th {\n        vertical-align: top;\n    }\n\n    .dataframe thead th {\n        text-align: right;\n    }\n</style>\n<table border=\"1\" class=\"dataframe\">\n  <thead>\n    <tr style=\"text-align: right;\">\n      <th></th>\n      <th>cf</th>\n      <th>nome</th>\n      <th>anno_nascita</th>\n      <th>sesso</th>\n      <th>reddito</th>\n      <th>CAP</th>\n      <th>via</th>\n      <th>civico</th>\n      <th>citta</th>\n    </tr>\n  </thead>\n  <tbody>\n    <tr>\n      <th>0</th>\n      <td>0T1B0ZJKYSZJ32UC</td>\n      <td>Giuseppe Verdi</td>\n      <td>1985-08-06</td>\n      <td>M</td>\n      <td>524415</td>\n      <td>95545</td>\n      <td>Via plutarco</td>\n      <td>2</td>\n      <td>8</td>\n    </tr>\n  </tbody>\n</table>\n</div>"
     },
     "execution_count": 6,
     "metadata": {},
     "output_type": "execute_result"
    }
   ],
   "source": [
    "query = '''\n",
    "SELECT DISTINCT c.*\n",
    "FROM prodotto p\n",
    "INNER JOIN spesa_include_prodotto sip ON p.codice = sip.prodotto\n",
    "INNER JOIN spesa s ON sip.spesa = s.n_scontrino\n",
    "INNER JOIN cliente c ON s.cliente = c.cf\n",
    "WHERE c.CAP = %s AND s.data BETWEEN %s AND %s\n",
    "'''\n",
    "# DATE DISPONIBILI NEL DB: Dal 2020-01-01 al 31-12-2020\n",
    "# CAP DISPONIBILI NEL DB: 95545, 40265, 30524, 74520, 20085\n",
    "\n",
    "cap = 95545\n",
    "start_date = datetime.date(2020, 1, 1)\n",
    "end_date = datetime.date(2020, 12, 31)\n",
    "\n",
    "execute_query(cursor, (cap, start_date, end_date))"
   ],
   "metadata": {
    "collapsed": false,
    "pycharm": {
     "name": "#%%\n"
    }
   }
  },
  {
   "cell_type": "markdown",
   "source": [
    "5. Per uno specifico CAP, individuare i clienti che non hanno fatto acquisti in un determinato periodo;"
   ],
   "metadata": {
    "collapsed": false
   }
  },
  {
   "cell_type": "code",
   "execution_count": 7,
   "outputs": [
    {
     "data": {
      "text/plain": "                 cf            nome anno_nascita sesso  reddito    CAP  \\\n0  0T1B0ZJKYSZJ32UC  Giuseppe Verdi   1985-08-06     M   524415  95545   \n\n            via  civico  citta  \n0  Via plutarco       2      8  ",
      "text/html": "<div>\n<style scoped>\n    .dataframe tbody tr th:only-of-type {\n        vertical-align: middle;\n    }\n\n    .dataframe tbody tr th {\n        vertical-align: top;\n    }\n\n    .dataframe thead th {\n        text-align: right;\n    }\n</style>\n<table border=\"1\" class=\"dataframe\">\n  <thead>\n    <tr style=\"text-align: right;\">\n      <th></th>\n      <th>cf</th>\n      <th>nome</th>\n      <th>anno_nascita</th>\n      <th>sesso</th>\n      <th>reddito</th>\n      <th>CAP</th>\n      <th>via</th>\n      <th>civico</th>\n      <th>citta</th>\n    </tr>\n  </thead>\n  <tbody>\n    <tr>\n      <th>0</th>\n      <td>0T1B0ZJKYSZJ32UC</td>\n      <td>Giuseppe Verdi</td>\n      <td>1985-08-06</td>\n      <td>M</td>\n      <td>524415</td>\n      <td>95545</td>\n      <td>Via plutarco</td>\n      <td>2</td>\n      <td>8</td>\n    </tr>\n  </tbody>\n</table>\n</div>"
     },
     "execution_count": 7,
     "metadata": {},
     "output_type": "execute_result"
    }
   ],
   "source": [
    "query = '''\n",
    "SELECT c.*\n",
    "FROM cliente c\n",
    "WHERE c.CAP = %s AND NOT EXISTS(\n",
    "\tSELECT 1\n",
    "\tFROM prodotto p\n",
    "\tINNER JOIN spesa_include_prodotto sip ON p.codice = sip.prodotto\n",
    "\tINNER JOIN spesa s ON sip.spesa = s.n_scontrino\n",
    "\tINNER JOIN cliente c1 ON s.cliente = c1.cf\n",
    "\tWHERE s.data BETWEEN %s AND %s\n",
    ")\n",
    "'''\n",
    "# DATE DISPONIBILI NEL DB: Dal 2020-01-01 al 31-12-2020\n",
    "# CAP DISPONIBILI NEL DB: 95545, 40265, 30524, 74520, 20085\n",
    "\n",
    "cap = 95545\n",
    "start_date = datetime.date(2020, 12, 5)\n",
    "end_date = datetime.date(2020, 12, 6)\n",
    "\n",
    "execute_query(cursor, (cap, start_date, end_date))"
   ],
   "metadata": {
    "collapsed": false,
    "pycharm": {
     "name": "#%%\n"
    }
   }
  },
  {
   "cell_type": "markdown",
   "source": [
    "6. Per ciascun prodotto in promozione determinarne la quantità venduta in un determinato periodo;"
   ],
   "metadata": {
    "collapsed": false
   }
  },
  {
   "cell_type": "code",
   "execution_count": 8,
   "outputs": [
    {
     "data": {
      "text/plain": "   codice           descrizione quantita\n0       1  Biscotto Grancereale        1\n1       2        Biscotto Doria        1\n2       3      Fesa di tacchino        1\n3       5            Lenticchia        2\n4       6       Fusilli Barilla        2",
      "text/html": "<div>\n<style scoped>\n    .dataframe tbody tr th:only-of-type {\n        vertical-align: middle;\n    }\n\n    .dataframe tbody tr th {\n        vertical-align: top;\n    }\n\n    .dataframe thead th {\n        text-align: right;\n    }\n</style>\n<table border=\"1\" class=\"dataframe\">\n  <thead>\n    <tr style=\"text-align: right;\">\n      <th></th>\n      <th>codice</th>\n      <th>descrizione</th>\n      <th>quantita</th>\n    </tr>\n  </thead>\n  <tbody>\n    <tr>\n      <th>0</th>\n      <td>1</td>\n      <td>Biscotto Grancereale</td>\n      <td>1</td>\n    </tr>\n    <tr>\n      <th>1</th>\n      <td>2</td>\n      <td>Biscotto Doria</td>\n      <td>1</td>\n    </tr>\n    <tr>\n      <th>2</th>\n      <td>3</td>\n      <td>Fesa di tacchino</td>\n      <td>1</td>\n    </tr>\n    <tr>\n      <th>3</th>\n      <td>5</td>\n      <td>Lenticchia</td>\n      <td>2</td>\n    </tr>\n    <tr>\n      <th>4</th>\n      <td>6</td>\n      <td>Fusilli Barilla</td>\n      <td>2</td>\n    </tr>\n  </tbody>\n</table>\n</div>"
     },
     "execution_count": 8,
     "metadata": {},
     "output_type": "execute_result"
    }
   ],
   "source": [
    "query = '''\n",
    "SELECT p.codice, p.descrizione, sum(sip.quantita) AS quantita\n",
    "FROM prodotto p\n",
    "INNER JOIN promozione promo ON promo.prodotto = p.codice\n",
    "INNER JOIN spesa_include_prodotto sip ON sip.prodotto = p.codice\n",
    "INNER JOIN spesa s ON sip.spesa = s.n_scontrino\n",
    "WHERE s.data BETWEEN promo.data_inizio AND promo.data_fine\n",
    "      AND s.data BETWEEN %s AND %s\n",
    "GROUP BY p.codice\n",
    "'''\n",
    "# DATE DISPONIBILI NEL DB: Dal 2020-01-01 al 31-12-2020\n",
    "\n",
    "start_date = datetime.date(2020, 2, 5)\n",
    "end_date = datetime.date(2020, 4, 5)\n",
    "\n",
    "execute_query(cursor, (start_date, end_date))"
   ],
   "metadata": {
    "collapsed": false,
    "pycharm": {
     "name": "#%%\n"
    }
   }
  },
  {
   "cell_type": "markdown",
   "source": [
    "7. I clienti che non hanno mai pagato con bancomat o carta di credito;"
   ],
   "metadata": {
    "collapsed": false
   }
  },
  {
   "cell_type": "code",
   "execution_count": 9,
   "outputs": [
    {
     "data": {
      "text/plain": "                 cf            nome anno_nascita sesso  reddito    CAP  \\\n0  0T1B0ZJKYSZJ32UC  Giuseppe Verdi   1985-08-06     M   524415  95545   \n\n            via  civico  citta  \n0  Via plutarco       2      8  ",
      "text/html": "<div>\n<style scoped>\n    .dataframe tbody tr th:only-of-type {\n        vertical-align: middle;\n    }\n\n    .dataframe tbody tr th {\n        vertical-align: top;\n    }\n\n    .dataframe thead th {\n        text-align: right;\n    }\n</style>\n<table border=\"1\" class=\"dataframe\">\n  <thead>\n    <tr style=\"text-align: right;\">\n      <th></th>\n      <th>cf</th>\n      <th>nome</th>\n      <th>anno_nascita</th>\n      <th>sesso</th>\n      <th>reddito</th>\n      <th>CAP</th>\n      <th>via</th>\n      <th>civico</th>\n      <th>citta</th>\n    </tr>\n  </thead>\n  <tbody>\n    <tr>\n      <th>0</th>\n      <td>0T1B0ZJKYSZJ32UC</td>\n      <td>Giuseppe Verdi</td>\n      <td>1985-08-06</td>\n      <td>M</td>\n      <td>524415</td>\n      <td>95545</td>\n      <td>Via plutarco</td>\n      <td>2</td>\n      <td>8</td>\n    </tr>\n  </tbody>\n</table>\n</div>"
     },
     "execution_count": 9,
     "metadata": {},
     "output_type": "execute_result"
    }
   ],
   "source": [
    "query = '''\n",
    "SELECT c.*\n",
    "FROM cliente c\n",
    "WHERE c.cf NOT IN (\n",
    "\tSELECT c1.cf\n",
    "\tFROM cliente c1\n",
    "\tINNER JOIN spesa s ON s.cliente = c1.cf\n",
    "\tINNER JOIN pagamento p ON p.id = s.pagamento\n",
    "\tWHERE p.tipo IN ('bancomat', 'carta')\n",
    ")\n",
    "'''\n",
    "\n",
    "execute_query(cursor, ())"
   ],
   "metadata": {
    "collapsed": false,
    "pycharm": {
     "name": "#%%\n"
    }
   }
  },
  {
   "cell_type": "markdown",
   "source": [
    "8. PRIMA VERSIONE - Il cliente che ha speso di più in un determinato periodo;"
   ],
   "metadata": {
    "collapsed": false
   }
  },
  {
   "cell_type": "code",
   "execution_count": 10,
   "outputs": [
    {
     "data": {
      "text/plain": "                 cf  spesa_totale\n0  WNE850TY9X99MTRD           0.7",
      "text/html": "<div>\n<style scoped>\n    .dataframe tbody tr th:only-of-type {\n        vertical-align: middle;\n    }\n\n    .dataframe tbody tr th {\n        vertical-align: top;\n    }\n\n    .dataframe thead th {\n        text-align: right;\n    }\n</style>\n<table border=\"1\" class=\"dataframe\">\n  <thead>\n    <tr style=\"text-align: right;\">\n      <th></th>\n      <th>cf</th>\n      <th>spesa_totale</th>\n    </tr>\n  </thead>\n  <tbody>\n    <tr>\n      <th>0</th>\n      <td>WNE850TY9X99MTRD</td>\n      <td>0.7</td>\n    </tr>\n  </tbody>\n</table>\n</div>"
     },
     "execution_count": 10,
     "metadata": {},
     "output_type": "execute_result"
    }
   ],
   "source": [
    "query = '''\n",
    "SELECT c.cf, sum(p.totale) AS spesa_totale\n",
    "FROM cliente c\n",
    "INNER JOIN spesa s ON c.cf = s.cliente\n",
    "INNER JOIN pagamento p ON s.pagamento = p.id\n",
    "WHERE s.data BETWEEN %s AND %s\n",
    "GROUP BY c.cf\n",
    "ORDER BY spesa_totale DESC\n",
    "LIMIT 1\n",
    "'''\n",
    "# DATE DISPONIBILI NEL DB: Dal 2020-01-01 al 31-12-2020\n",
    "\n",
    "start_date = datetime.date(2020, 12, 4)\n",
    "end_date = datetime.date(2020, 12, 31)\n",
    "\n",
    "execute_query(cursor, (start_date, end_date))"
   ],
   "metadata": {
    "collapsed": false,
    "pycharm": {
     "name": "#%%\n"
    }
   }
  },
  {
   "cell_type": "markdown",
   "source": [
    "8. SECONDA VERSIONE - Il cliente che ha speso di più in un determinato periodo;"
   ],
   "metadata": {
    "collapsed": false
   }
  },
  {
   "cell_type": "code",
   "execution_count": 11,
   "outputs": [
    {
     "data": {
      "text/plain": "                 cf  spesa_totale\n0  WNE850TY9X99MTRD           0.7",
      "text/html": "<div>\n<style scoped>\n    .dataframe tbody tr th:only-of-type {\n        vertical-align: middle;\n    }\n\n    .dataframe tbody tr th {\n        vertical-align: top;\n    }\n\n    .dataframe thead th {\n        text-align: right;\n    }\n</style>\n<table border=\"1\" class=\"dataframe\">\n  <thead>\n    <tr style=\"text-align: right;\">\n      <th></th>\n      <th>cf</th>\n      <th>spesa_totale</th>\n    </tr>\n  </thead>\n  <tbody>\n    <tr>\n      <th>0</th>\n      <td>WNE850TY9X99MTRD</td>\n      <td>0.7</td>\n    </tr>\n  </tbody>\n</table>\n</div>"
     },
     "execution_count": 11,
     "metadata": {},
     "output_type": "execute_result"
    }
   ],
   "source": [
    "query = '''\n",
    "SELECT c.cf, sum(p.totale) AS spesa_totale\n",
    "FROM cliente c\n",
    "INNER JOIN spesa s ON c.cf = s.cliente\n",
    "INNER JOIN pagamento p ON s.pagamento = p.id\n",
    "WHERE s.data BETWEEN %s AND %s\n",
    "GROUP BY c.cf\n",
    "HAVING SUM(p.totale) >= ALL(\n",
    "\tSELECT SUM(p2.totale)\n",
    "\tFROM cliente c2\n",
    "\tINNER JOIN spesa s2 ON c2.cf = s2.cliente\n",
    "\tINNER JOIN pagamento p2 ON s2.pagamento = p2.id\n",
    "\tWHERE s2.data BETWEEN %s AND %s\n",
    "\tGROUP BY c2.cf\n",
    ")\n",
    "'''\n",
    "# DATE DISPONIBILI NEL DB: Dal 2020-01-01 al 31-12-2020\n",
    "\n",
    "start_date = datetime.date(2020, 12, 4)\n",
    "end_date = datetime.date(2020, 12, 31)\n",
    "\n",
    "execute_query(cursor, (start_date, end_date, start_date, end_date))"
   ],
   "metadata": {
    "collapsed": false,
    "pycharm": {
     "name": "#%%\n"
    }
   }
  },
  {
   "cell_type": "markdown",
   "source": [
    "9. Per uno specifico CAP la spesa media per scontrino in un determinato periodo;\n",
    "\n",
    "Dalla rilettura del testo, ho compreso che chiedeva la media della spesa di un prodotto in tutti gli scontrini.\n",
    "Tuttavia questa è la query che abbiamo chiarito con il professore La Cascia via mail."
   ],
   "metadata": {
    "collapsed": false
   }
  },
  {
   "cell_type": "code",
   "execution_count": 12,
   "outputs": [
    {
     "data": {
      "text/plain": "     CAP     media\n0  95545  8.798333",
      "text/html": "<div>\n<style scoped>\n    .dataframe tbody tr th:only-of-type {\n        vertical-align: middle;\n    }\n\n    .dataframe tbody tr th {\n        vertical-align: top;\n    }\n\n    .dataframe thead th {\n        text-align: right;\n    }\n</style>\n<table border=\"1\" class=\"dataframe\">\n  <thead>\n    <tr style=\"text-align: right;\">\n      <th></th>\n      <th>CAP</th>\n      <th>media</th>\n    </tr>\n  </thead>\n  <tbody>\n    <tr>\n      <th>0</th>\n      <td>95545</td>\n      <td>8.798333</td>\n    </tr>\n  </tbody>\n</table>\n</div>"
     },
     "execution_count": 12,
     "metadata": {},
     "output_type": "execute_result"
    }
   ],
   "source": [
    "query = '''\n",
    "SELECT c.CAP, AVG(p.totale) as media\n",
    "FROM cliente c\n",
    "INNER JOIN spesa s ON c.cf = s.cliente\n",
    "INNER JOIN pagamento p ON s.pagamento = p.id\n",
    "WHERE c.CAP = %s AND s.data BETWEEN %s AND %s\n",
    "GROUP BY c.cf\n",
    "'''\n",
    "# DATE DISPONIBILI NEL DB: Dal 2020-01-01 al 31-12-2020\n",
    "# CAP DISPONIBILI NEL DB: 95545, 40265, 30524, 74520, 20085\n",
    "\n",
    "cap = 95545\n",
    "start_date = datetime.date(2020, 1, 5)\n",
    "end_date = datetime.date(2020, 12, 6)\n",
    "\n",
    "execute_query(cursor, (cap, start_date, end_date))"
   ],
   "metadata": {
    "collapsed": false,
    "pycharm": {
     "name": "#%%\n"
    }
   }
  },
  {
   "cell_type": "markdown",
   "source": [
    "9. Per uno specifico CAP la spesa media per scontrino in un determinato periodo;\n",
    "\n",
    "Questa invece è la versione che ho inteso dopo: \"la media della spesa di un prodotto in tutti gli scontrini\""
   ],
   "metadata": {
    "collapsed": false
   }
  },
  {
   "cell_type": "code",
   "execution_count": 13,
   "outputs": [
    {
     "data": {
      "text/plain": "   codice           descrizione     media\n0       1  Biscotto Grancereale  0.641667\n1       2        Biscotto Doria  0.760000\n2       3      Fesa di tacchino  4.920000\n3       4            Prosciutto  6.000000\n4       5            Lenticchia  0.540000\n5       6       Fusilli Barilla  1.425000\n6       7        Rigatoni Patti  0.700000",
      "text/html": "<div>\n<style scoped>\n    .dataframe tbody tr th:only-of-type {\n        vertical-align: middle;\n    }\n\n    .dataframe tbody tr th {\n        vertical-align: top;\n    }\n\n    .dataframe thead th {\n        text-align: right;\n    }\n</style>\n<table border=\"1\" class=\"dataframe\">\n  <thead>\n    <tr style=\"text-align: right;\">\n      <th></th>\n      <th>codice</th>\n      <th>descrizione</th>\n      <th>media</th>\n    </tr>\n  </thead>\n  <tbody>\n    <tr>\n      <th>0</th>\n      <td>1</td>\n      <td>Biscotto Grancereale</td>\n      <td>0.641667</td>\n    </tr>\n    <tr>\n      <th>1</th>\n      <td>2</td>\n      <td>Biscotto Doria</td>\n      <td>0.760000</td>\n    </tr>\n    <tr>\n      <th>2</th>\n      <td>3</td>\n      <td>Fesa di tacchino</td>\n      <td>4.920000</td>\n    </tr>\n    <tr>\n      <th>3</th>\n      <td>4</td>\n      <td>Prosciutto</td>\n      <td>6.000000</td>\n    </tr>\n    <tr>\n      <th>4</th>\n      <td>5</td>\n      <td>Lenticchia</td>\n      <td>0.540000</td>\n    </tr>\n    <tr>\n      <th>5</th>\n      <td>6</td>\n      <td>Fusilli Barilla</td>\n      <td>1.425000</td>\n    </tr>\n    <tr>\n      <th>6</th>\n      <td>7</td>\n      <td>Rigatoni Patti</td>\n      <td>0.700000</td>\n    </tr>\n  </tbody>\n</table>\n</div>"
     },
     "execution_count": 13,
     "metadata": {},
     "output_type": "execute_result"
    }
   ],
   "source": [
    "query = '''\n",
    "SELECT p.codice, p.descrizione, AVG(sip.prezzo) as media\n",
    "FROM cliente c\n",
    "INNER JOIN spesa s ON c.cf = s.cliente\n",
    "INNER JOIN spesa_include_prodotto sip on sip.spesa = s.n_scontrino\n",
    "INNER JOIN prodotto p on p.codice = sip.prodotto\n",
    "WHERE c.CAP = %s AND s.data BETWEEN %s AND %s\n",
    "GROUP BY p.codice\n",
    "'''\n",
    "# DATE DISPONIBILI NEL DB: Dal 2020-01-01 al 31-12-2020\n",
    "# CAP DISPONIBILI NEL DB: 95545, 40265, 30524, 74520, 20085\n",
    "\n",
    "cap = 95545\n",
    "start_date = datetime.date(2020, 1, 5)\n",
    "end_date = datetime.date(2020, 12, 6)\n",
    "\n",
    "execute_query(cursor, (cap, start_date, end_date))"
   ],
   "metadata": {
    "collapsed": false,
    "pycharm": {
     "name": "#%%\n"
    }
   }
  },
  {
   "cell_type": "markdown",
   "source": [
    "10. Per ciascuna categoria di prodotti il totale del prezzo pagato per i prodotti venduti in un determinato periodo."
   ],
   "metadata": {
    "collapsed": false
   }
  },
  {
   "cell_type": "code",
   "execution_count": 14,
   "outputs": [
    {
     "data": {
      "text/plain": "       nome  totale_pagato\n0  biscotti      14.425000\n1    salumi      76.800001\n2    legumi       4.320000\n3     pasta      21.924999",
      "text/html": "<div>\n<style scoped>\n    .dataframe tbody tr th:only-of-type {\n        vertical-align: middle;\n    }\n\n    .dataframe tbody tr th {\n        vertical-align: top;\n    }\n\n    .dataframe thead th {\n        text-align: right;\n    }\n</style>\n<table border=\"1\" class=\"dataframe\">\n  <thead>\n    <tr style=\"text-align: right;\">\n      <th></th>\n      <th>nome</th>\n      <th>totale_pagato</th>\n    </tr>\n  </thead>\n  <tbody>\n    <tr>\n      <th>0</th>\n      <td>biscotti</td>\n      <td>14.425000</td>\n    </tr>\n    <tr>\n      <th>1</th>\n      <td>salumi</td>\n      <td>76.800001</td>\n    </tr>\n    <tr>\n      <th>2</th>\n      <td>legumi</td>\n      <td>4.320000</td>\n    </tr>\n    <tr>\n      <th>3</th>\n      <td>pasta</td>\n      <td>21.924999</td>\n    </tr>\n  </tbody>\n</table>\n</div>"
     },
     "execution_count": 14,
     "metadata": {},
     "output_type": "execute_result"
    }
   ],
   "source": [
    "query = '''\n",
    "SELECT cat.nome, sum(sip.prezzo) as totale_pagato\n",
    "FROM prodotto p\n",
    "INNER JOIN categoria cat ON p.categoria = cat.id\n",
    "INNER JOIN spesa_include_prodotto sip ON p.codice = sip.prodotto\n",
    "INNER JOIN spesa s ON sip.spesa = s.n_scontrino\n",
    "INNER JOIN cliente c ON s.cliente = c.cf\n",
    "WHERE s.data BETWEEN %s AND %s\n",
    "GROUP BY cat.id\n",
    "'''\n",
    "# DATE DISPONIBILI NEL DB: Dal 2020-01-01 al 31-12-2020\n",
    "\n",
    "start_date = datetime.date(2020, 1, 1)\n",
    "end_date = datetime.date(2020, 12, 31)\n",
    "\n",
    "execute_query(cursor, (start_date, end_date))"
   ],
   "metadata": {
    "collapsed": false,
    "pycharm": {
     "name": "#%%\n"
    }
   }
  },
  {
   "cell_type": "markdown",
   "source": [
    "Close connection"
   ],
   "metadata": {
    "collapsed": false
   }
  },
  {
   "cell_type": "code",
   "execution_count": 15,
   "outputs": [],
   "source": [
    "cursor.close()\n",
    "cnx.close()"
   ],
   "metadata": {
    "collapsed": false,
    "pycharm": {
     "name": "#%%\n"
    }
   }
  }
 ],
 "metadata": {
  "kernelspec": {
   "display_name": "Python 3",
   "language": "python",
   "name": "python3"
  },
  "language_info": {
   "codemirror_mode": {
    "name": "ipython",
    "version": 2
   },
   "file_extension": ".py",
   "mimetype": "text/x-python",
   "name": "python",
   "nbconvert_exporter": "python",
   "pygments_lexer": "ipython2",
   "version": "2.7.6"
  }
 },
 "nbformat": 4,
 "nbformat_minor": 0
}